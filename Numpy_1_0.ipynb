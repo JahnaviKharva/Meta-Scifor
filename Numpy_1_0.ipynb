{
  "nbformat": 4,
  "nbformat_minor": 0,
  "metadata": {
    "colab": {
      "provenance": []
    },
    "kernelspec": {
      "name": "python3",
      "display_name": "Python 3"
    },
    "language_info": {
      "name": "python"
    }
  },
  "cells": [
    {
      "cell_type": "code",
      "execution_count": 1,
      "metadata": {
        "id": "9_ZahP2E7P-z"
      },
      "outputs": [],
      "source": [
        "import numpy as np"
      ]
    },
    {
      "cell_type": "code",
      "source": [
        "print(dir(np))"
      ],
      "metadata": {
        "colab": {
          "base_uri": "https://localhost:8080/"
        },
        "id": "OHtgdruB7Y5D",
        "outputId": "6740a439-5606-46ad-c7da-24c52916a4ab"
      },
      "execution_count": 2,
      "outputs": [
        {
          "output_type": "stream",
          "name": "stdout",
          "text": [
            "['ALLOW_THREADS', 'BUFSIZE', 'CLIP', 'DataSource', 'ERR_CALL', 'ERR_DEFAULT', 'ERR_IGNORE', 'ERR_LOG', 'ERR_PRINT', 'ERR_RAISE', 'ERR_WARN', 'FLOATING_POINT_SUPPORT', 'FPE_DIVIDEBYZERO', 'FPE_INVALID', 'FPE_OVERFLOW', 'FPE_UNDERFLOW', 'False_', 'Inf', 'Infinity', 'MAXDIMS', 'MAY_SHARE_BOUNDS', 'MAY_SHARE_EXACT', 'NAN', 'NINF', 'NZERO', 'NaN', 'PINF', 'PZERO', 'RAISE', 'RankWarning', 'SHIFT_DIVIDEBYZERO', 'SHIFT_INVALID', 'SHIFT_OVERFLOW', 'SHIFT_UNDERFLOW', 'ScalarType', 'True_', 'UFUNC_BUFSIZE_DEFAULT', 'UFUNC_PYVALS_NAME', 'WRAP', '_CopyMode', '_NoValue', '_UFUNC_API', '__NUMPY_SETUP__', '__all__', '__builtins__', '__cached__', '__config__', '__deprecated_attrs__', '__dir__', '__doc__', '__expired_functions__', '__file__', '__former_attrs__', '__future_scalars__', '__getattr__', '__git_version__', '__loader__', '__name__', '__package__', '__path__', '__spec__', '__version__', '_add_newdoc_ufunc', '_builtins', '_distributor_init', '_financial_names', '_get_promotion_state', '_globals', '_int_extended_msg', '_mat', '_no_nep50_warning', '_pyinstaller_hooks_dir', '_pytesttester', '_set_promotion_state', '_specific_msg', '_typing', '_using_numpy2_behavior', '_utils', '_version', 'abs', 'absolute', 'add', 'add_docstring', 'add_newdoc', 'add_newdoc_ufunc', 'all', 'allclose', 'alltrue', 'amax', 'amin', 'angle', 'any', 'append', 'apply_along_axis', 'apply_over_axes', 'arange', 'arccos', 'arccosh', 'arcsin', 'arcsinh', 'arctan', 'arctan2', 'arctanh', 'argmax', 'argmin', 'argpartition', 'argsort', 'argwhere', 'around', 'array', 'array2string', 'array_equal', 'array_equiv', 'array_repr', 'array_split', 'array_str', 'asanyarray', 'asarray', 'asarray_chkfinite', 'ascontiguousarray', 'asfarray', 'asfortranarray', 'asmatrix', 'atleast_1d', 'atleast_2d', 'atleast_3d', 'average', 'bartlett', 'base_repr', 'binary_repr', 'bincount', 'bitwise_and', 'bitwise_not', 'bitwise_or', 'bitwise_xor', 'blackman', 'block', 'bmat', 'bool_', 'broadcast', 'broadcast_arrays', 'broadcast_shapes', 'broadcast_to', 'busday_count', 'busday_offset', 'busdaycalendar', 'byte', 'byte_bounds', 'bytes_', 'c_', 'can_cast', 'cast', 'cbrt', 'cdouble', 'ceil', 'cfloat', 'char', 'character', 'chararray', 'choose', 'clip', 'clongdouble', 'clongfloat', 'column_stack', 'common_type', 'compare_chararrays', 'compat', 'complex128', 'complex256', 'complex64', 'complex_', 'complexfloating', 'compress', 'concatenate', 'conj', 'conjugate', 'convolve', 'copy', 'copysign', 'copyto', 'corrcoef', 'correlate', 'cos', 'cosh', 'count_nonzero', 'cov', 'cross', 'csingle', 'ctypeslib', 'cumprod', 'cumproduct', 'cumsum', 'datetime64', 'datetime_as_string', 'datetime_data', 'deg2rad', 'degrees', 'delete', 'deprecate', 'deprecate_with_doc', 'diag', 'diag_indices', 'diag_indices_from', 'diagflat', 'diagonal', 'diff', 'digitize', 'disp', 'divide', 'divmod', 'dot', 'double', 'dsplit', 'dstack', 'dtype', 'dtypes', 'e', 'ediff1d', 'einsum', 'einsum_path', 'emath', 'empty', 'empty_like', 'equal', 'errstate', 'euler_gamma', 'exceptions', 'exp', 'exp2', 'expand_dims', 'expm1', 'extract', 'eye', 'fabs', 'fastCopyAndTranspose', 'fft', 'fill_diagonal', 'find_common_type', 'finfo', 'fix', 'flatiter', 'flatnonzero', 'flexible', 'flip', 'fliplr', 'flipud', 'float128', 'float16', 'float32', 'float64', 'float_', 'float_power', 'floating', 'floor', 'floor_divide', 'fmax', 'fmin', 'fmod', 'format_float_positional', 'format_float_scientific', 'format_parser', 'frexp', 'from_dlpack', 'frombuffer', 'fromfile', 'fromfunction', 'fromiter', 'frompyfunc', 'fromregex', 'fromstring', 'full', 'full_like', 'gcd', 'generic', 'genfromtxt', 'geomspace', 'get_array_wrap', 'get_include', 'get_printoptions', 'getbufsize', 'geterr', 'geterrcall', 'geterrobj', 'gradient', 'greater', 'greater_equal', 'half', 'hamming', 'hanning', 'heaviside', 'histogram', 'histogram2d', 'histogram_bin_edges', 'histogramdd', 'hsplit', 'hstack', 'hypot', 'i0', 'identity', 'iinfo', 'imag', 'in1d', 'index_exp', 'indices', 'inexact', 'inf', 'info', 'infty', 'inner', 'insert', 'int16', 'int32', 'int64', 'int8', 'int_', 'intc', 'integer', 'interp', 'intersect1d', 'intp', 'invert', 'is_busday', 'isclose', 'iscomplex', 'iscomplexobj', 'isfinite', 'isfortran', 'isin', 'isinf', 'isnan', 'isnat', 'isneginf', 'isposinf', 'isreal', 'isrealobj', 'isscalar', 'issctype', 'issubclass_', 'issubdtype', 'issubsctype', 'iterable', 'ix_', 'kaiser', 'kernel_version', 'kron', 'lcm', 'ldexp', 'left_shift', 'less', 'less_equal', 'lexsort', 'lib', 'linalg', 'linspace', 'little_endian', 'load', 'loadtxt', 'log', 'log10', 'log1p', 'log2', 'logaddexp', 'logaddexp2', 'logical_and', 'logical_not', 'logical_or', 'logical_xor', 'logspace', 'longcomplex', 'longdouble', 'longfloat', 'longlong', 'lookfor', 'ma', 'mask_indices', 'mat', 'matmul', 'matrix', 'max', 'maximum', 'maximum_sctype', 'may_share_memory', 'mean', 'median', 'memmap', 'meshgrid', 'mgrid', 'min', 'min_scalar_type', 'minimum', 'mintypecode', 'mod', 'modf', 'moveaxis', 'msort', 'multiply', 'nan', 'nan_to_num', 'nanargmax', 'nanargmin', 'nancumprod', 'nancumsum', 'nanmax', 'nanmean', 'nanmedian', 'nanmin', 'nanpercentile', 'nanprod', 'nanquantile', 'nanstd', 'nansum', 'nanvar', 'nbytes', 'ndarray', 'ndenumerate', 'ndim', 'ndindex', 'nditer', 'negative', 'nested_iters', 'newaxis', 'nextafter', 'nonzero', 'not_equal', 'numarray', 'number', 'obj2sctype', 'object_', 'ogrid', 'oldnumeric', 'ones', 'ones_like', 'outer', 'packbits', 'pad', 'partition', 'percentile', 'pi', 'piecewise', 'place', 'poly', 'poly1d', 'polyadd', 'polyder', 'polydiv', 'polyfit', 'polyint', 'polymul', 'polynomial', 'polysub', 'polyval', 'positive', 'power', 'printoptions', 'prod', 'product', 'promote_types', 'ptp', 'put', 'put_along_axis', 'putmask', 'quantile', 'r_', 'rad2deg', 'radians', 'random', 'ravel', 'ravel_multi_index', 'real', 'real_if_close', 'rec', 'recarray', 'recfromcsv', 'recfromtxt', 'reciprocal', 'record', 'remainder', 'repeat', 'require', 'reshape', 'resize', 'result_type', 'right_shift', 'rint', 'roll', 'rollaxis', 'roots', 'rot90', 'round', 'round_', 'row_stack', 's_', 'safe_eval', 'save', 'savetxt', 'savez', 'savez_compressed', 'sctype2char', 'sctypeDict', 'sctypes', 'searchsorted', 'select', 'set_numeric_ops', 'set_printoptions', 'set_string_function', 'setbufsize', 'setdiff1d', 'seterr', 'seterrcall', 'seterrobj', 'setxor1d', 'shape', 'shares_memory', 'short', 'show_config', 'show_runtime', 'sign', 'signbit', 'signedinteger', 'sin', 'sinc', 'single', 'singlecomplex', 'sinh', 'size', 'sometrue', 'sort', 'sort_complex', 'source', 'spacing', 'split', 'sqrt', 'square', 'squeeze', 'stack', 'std', 'str_', 'string_', 'subtract', 'sum', 'swapaxes', 'take', 'take_along_axis', 'tan', 'tanh', 'tensordot', 'test', 'testing', 'tile', 'timedelta64', 'trace', 'tracemalloc_domain', 'transpose', 'trapz', 'tri', 'tril', 'tril_indices', 'tril_indices_from', 'trim_zeros', 'triu', 'triu_indices', 'triu_indices_from', 'true_divide', 'trunc', 'typecodes', 'typename', 'ubyte', 'ufunc', 'uint', 'uint16', 'uint32', 'uint64', 'uint8', 'uintc', 'uintp', 'ulonglong', 'unicode_', 'union1d', 'unique', 'unpackbits', 'unravel_index', 'unsignedinteger', 'unwrap', 'ushort', 'vander', 'var', 'vdot', 'vectorize', 'version', 'void', 'vsplit', 'vstack', 'where', 'who', 'zeros', 'zeros_like']\n"
          ]
        }
      ]
    },
    {
      "cell_type": "code",
      "source": [
        "np.sqrt(10) # sqrt=square root"
      ],
      "metadata": {
        "colab": {
          "base_uri": "https://localhost:8080/"
        },
        "id": "Ze9zndn47f4u",
        "outputId": "bcd34eff-ab51-4d68-8ef5-c732dc9e2856"
      },
      "execution_count": 3,
      "outputs": [
        {
          "output_type": "execute_result",
          "data": {
            "text/plain": [
              "3.1622776601683795"
            ]
          },
          "metadata": {},
          "execution_count": 3
        }
      ]
    },
    {
      "cell_type": "code",
      "source": [
        "print(\"Minimun \",np.amin([25,30,57,18]))"
      ],
      "metadata": {
        "colab": {
          "base_uri": "https://localhost:8080/"
        },
        "id": "ni2NUtgu7k__",
        "outputId": "265543f7-136e-4b0e-9966-7e0f47f1c75b"
      },
      "execution_count": 4,
      "outputs": [
        {
          "output_type": "stream",
          "name": "stdout",
          "text": [
            "Minimun  18\n"
          ]
        }
      ]
    },
    {
      "cell_type": "code",
      "source": [
        "print(\"Maximum \",np.amax([25,30,57,18]))"
      ],
      "metadata": {
        "colab": {
          "base_uri": "https://localhost:8080/"
        },
        "id": "-ClUl9r97n--",
        "outputId": "008fa697-d068-41d6-c973-ca3d3307e220"
      },
      "execution_count": 5,
      "outputs": [
        {
          "output_type": "stream",
          "name": "stdout",
          "text": [
            "Maximum  57\n"
          ]
        }
      ]
    },
    {
      "cell_type": "code",
      "source": [
        "np.ceil(29.1) #its means when we use ceil they give roundfigured answer."
      ],
      "metadata": {
        "colab": {
          "base_uri": "https://localhost:8080/"
        },
        "id": "jmBWEb-h7qKC",
        "outputId": "9caadaa5-a7bb-4030-ed31-9f9b545ad936"
      },
      "execution_count": 6,
      "outputs": [
        {
          "output_type": "execute_result",
          "data": {
            "text/plain": [
              "30.0"
            ]
          },
          "metadata": {},
          "execution_count": 6
        }
      ]
    },
    {
      "cell_type": "code",
      "source": [
        "np.ceil(np.sqrt(10))"
      ],
      "metadata": {
        "colab": {
          "base_uri": "https://localhost:8080/"
        },
        "id": "DDUAATLn7tif",
        "outputId": "4798f221-4837-4bf3-958e-cc2b4fecdde2"
      },
      "execution_count": 7,
      "outputs": [
        {
          "output_type": "execute_result",
          "data": {
            "text/plain": [
              "4.0"
            ]
          },
          "metadata": {},
          "execution_count": 7
        }
      ]
    },
    {
      "cell_type": "code",
      "source": [
        "np.ceil(np.sum(np.sqrt([5,10,15])))"
      ],
      "metadata": {
        "colab": {
          "base_uri": "https://localhost:8080/"
        },
        "id": "IXrF32tf7wud",
        "outputId": "61cfab7a-76c2-4155-a202-1b30aaaef367"
      },
      "execution_count": 8,
      "outputs": [
        {
          "output_type": "execute_result",
          "data": {
            "text/plain": [
              "10.0"
            ]
          },
          "metadata": {},
          "execution_count": 8
        }
      ]
    },
    {
      "cell_type": "code",
      "source": [
        "np.array([5,9,13])"
      ],
      "metadata": {
        "colab": {
          "base_uri": "https://localhost:8080/"
        },
        "id": "YUgd335_7zvO",
        "outputId": "ae740f84-a139-4889-8900-9aac238c2810"
      },
      "execution_count": 9,
      "outputs": [
        {
          "output_type": "execute_result",
          "data": {
            "text/plain": [
              "array([ 5,  9, 13])"
            ]
          },
          "metadata": {},
          "execution_count": 9
        }
      ]
    },
    {
      "cell_type": "code",
      "source": [
        "type([5,9,13])"
      ],
      "metadata": {
        "colab": {
          "base_uri": "https://localhost:8080/"
        },
        "id": "se36rWeC72dC",
        "outputId": "411e1874-c623-401e-bf7f-9db9a808b783"
      },
      "execution_count": 10,
      "outputs": [
        {
          "output_type": "execute_result",
          "data": {
            "text/plain": [
              "list"
            ]
          },
          "metadata": {},
          "execution_count": 10
        }
      ]
    },
    {
      "cell_type": "code",
      "source": [
        "xyz=np.array([5,9,13])"
      ],
      "metadata": {
        "id": "eAoRGynn74iZ"
      },
      "execution_count": 11,
      "outputs": []
    },
    {
      "cell_type": "code",
      "source": [
        "type(xyz)"
      ],
      "metadata": {
        "colab": {
          "base_uri": "https://localhost:8080/"
        },
        "id": "QrqWhACn76wn",
        "outputId": "1bbb2f47-ab61-4d60-cd87-5ff468992859"
      },
      "execution_count": 12,
      "outputs": [
        {
          "output_type": "execute_result",
          "data": {
            "text/plain": [
              "numpy.ndarray"
            ]
          },
          "metadata": {},
          "execution_count": 12
        }
      ]
    },
    {
      "cell_type": "code",
      "source": [
        "a=np.array([[1,2],[3,4],[4,5]])\n",
        "print(\"Type - \",a.dtype)\n",
        "\n",
        "print(\"\\n\",a)"
      ],
      "metadata": {
        "colab": {
          "base_uri": "https://localhost:8080/"
        },
        "id": "escMuE-f79Yj",
        "outputId": "9999db66-0654-4b80-9d2a-1866df796436"
      },
      "execution_count": 13,
      "outputs": [
        {
          "output_type": "stream",
          "name": "stdout",
          "text": [
            "Type -  int64\n",
            "\n",
            " [[1 2]\n",
            " [3 4]\n",
            " [4 5]]\n"
          ]
        }
      ]
    },
    {
      "cell_type": "code",
      "source": [
        "a=np.array([[1,2],[3,4],[4,5]])\n",
        "print(\"Type - \",a.dtype)\n",
        "\n",
        "print(\"\\n\",a)"
      ],
      "metadata": {
        "colab": {
          "base_uri": "https://localhost:8080/"
        },
        "id": "Mwyiloji7_0g",
        "outputId": "34a7c8d7-71cd-4b7d-d4b8-0d5f39fc365a"
      },
      "execution_count": 14,
      "outputs": [
        {
          "output_type": "stream",
          "name": "stdout",
          "text": [
            "Type -  int64\n",
            "\n",
            " [[1 2]\n",
            " [3 4]\n",
            " [4 5]]\n"
          ]
        }
      ]
    },
    {
      "cell_type": "code",
      "source": [
        "a=[1,2]\n",
        "c=np.array(a)\n",
        "print(c)"
      ],
      "metadata": {
        "colab": {
          "base_uri": "https://localhost:8080/"
        },
        "id": "StKhfvQj8EAH",
        "outputId": "8e8f082d-70d2-4d56-9e28-bd4b7818fb67"
      },
      "execution_count": 15,
      "outputs": [
        {
          "output_type": "stream",
          "name": "stdout",
          "text": [
            "[1 2]\n"
          ]
        }
      ]
    },
    {
      "cell_type": "code",
      "source": [
        "type(c)"
      ],
      "metadata": {
        "colab": {
          "base_uri": "https://localhost:8080/"
        },
        "id": "Ieriih9A8GHM",
        "outputId": "022ca35b-ce4b-4892-db4d-8087dd93b4b4"
      },
      "execution_count": 16,
      "outputs": [
        {
          "output_type": "execute_result",
          "data": {
            "text/plain": [
              "numpy.ndarray"
            ]
          },
          "metadata": {},
          "execution_count": 16
        }
      ]
    },
    {
      "cell_type": "code",
      "source": [
        "b=np.asarray(c)\n",
        "print(b)"
      ],
      "metadata": {
        "colab": {
          "base_uri": "https://localhost:8080/"
        },
        "id": "B2kfiLYW8IcJ",
        "outputId": "e19b8110-7464-4173-e7e0-b5b4fb3d5b5a"
      },
      "execution_count": 17,
      "outputs": [
        {
          "output_type": "stream",
          "name": "stdout",
          "text": [
            "[1 2]\n"
          ]
        }
      ]
    },
    {
      "cell_type": "code",
      "source": [
        "import numpy as np"
      ],
      "metadata": {
        "id": "7vnVDjms8Kk0"
      },
      "execution_count": 18,
      "outputs": []
    },
    {
      "cell_type": "code",
      "source": [
        "my_mat=[[1,2,3],[4,5,6],[7,8,9]]\n",
        "mat=np.array(my_mat)\n",
        "print(\"Type/class of this object : \",type(mat))\n",
        "print(\"Here is the marks \\n------\\n\",mat,\"\\n-----------\")\n",
        "print(\"print dimension of this matrix : \",mat.ndim)#ndim gives dimension,2 for a matrix and 1 for vector\n",
        "print(\"size of the matrix : \",mat.size)#size shows total number elements\n",
        "print(\"Shape of the matrix : \",mat.shape)#shape shows how many rows and column\n",
        "print(\"Data Type of the matrix ; \",mat.dtype)#shoes which type"
      ],
      "metadata": {
        "colab": {
          "base_uri": "https://localhost:8080/"
        },
        "id": "j7_FbaV-8Myn",
        "outputId": "c5997ed1-bb2b-4f43-b9f9-95a9153e1550"
      },
      "execution_count": 19,
      "outputs": [
        {
          "output_type": "stream",
          "name": "stdout",
          "text": [
            "Type/class of this object :  <class 'numpy.ndarray'>\n",
            "Here is the marks \n",
            "------\n",
            " [[1 2 3]\n",
            " [4 5 6]\n",
            " [7 8 9]] \n",
            "-----------\n",
            "print dimension of this matrix :  2\n",
            "size of the matrix :  9\n",
            "Shape of the matrix :  (3, 3)\n",
            "Data Type of the matrix ;  int64\n"
          ]
        }
      ]
    },
    {
      "cell_type": "code",
      "source": [
        "a=np.arange(10)"
      ],
      "metadata": {
        "id": "WtXAajlE8PQr"
      },
      "execution_count": 20,
      "outputs": []
    },
    {
      "cell_type": "code",
      "source": [
        "a=np.arange(10.5,20.4,2)"
      ],
      "metadata": {
        "id": "1DGXl4QP8SIM"
      },
      "execution_count": 21,
      "outputs": []
    },
    {
      "cell_type": "code",
      "source": [
        "print(\"Every 5th number from 50 in reverse order \\n\",np.arange(50,-1,-5))"
      ],
      "metadata": {
        "colab": {
          "base_uri": "https://localhost:8080/"
        },
        "id": "1N6VepSU8Vhu",
        "outputId": "2ac48b9f-5fcd-47ba-8e68-de228d8bad24"
      },
      "execution_count": 22,
      "outputs": [
        {
          "output_type": "stream",
          "name": "stdout",
          "text": [
            "Every 5th number from 50 in reverse order \n",
            " [50 45 40 35 30 25 20 15 10  5  0]\n"
          ]
        }
      ]
    },
    {
      "cell_type": "code",
      "source": [
        "print(\"linearly space numbers between 1 and 5 \\n-------------\")\n",
        "print(np.linspace(10,40,5))"
      ],
      "metadata": {
        "colab": {
          "base_uri": "https://localhost:8080/"
        },
        "id": "p7Uwr7Ft8YMS",
        "outputId": "79537829-d9b6-407f-ddfa-5db21b339bcd"
      },
      "execution_count": 23,
      "outputs": [
        {
          "output_type": "stream",
          "name": "stdout",
          "text": [
            "linearly space numbers between 1 and 5 \n",
            "-------------\n",
            "[10.  17.5 25.  32.5 40. ]\n"
          ]
        }
      ]
    },
    {
      "cell_type": "code",
      "source": [
        "np.linspace(2.0,3.0,num=4,endpoint=True,retstep=True)"
      ],
      "metadata": {
        "colab": {
          "base_uri": "https://localhost:8080/"
        },
        "id": "s-Hx2Fd48a8G",
        "outputId": "72edf16f-46eb-49a2-af76-d65e87eed6b0"
      },
      "execution_count": 24,
      "outputs": [
        {
          "output_type": "execute_result",
          "data": {
            "text/plain": [
              "(array([2.        , 2.33333333, 2.66666667, 3.        ]), 0.3333333333333333)"
            ]
          },
          "metadata": {},
          "execution_count": 24
        }
      ]
    },
    {
      "cell_type": "code",
      "source": [
        "print(np.linspace(4.5678,25.9865,39,retstep=True))"
      ],
      "metadata": {
        "colab": {
          "base_uri": "https://localhost:8080/"
        },
        "id": "KezO2kFC8djk",
        "outputId": "0948caa7-5e4c-4148-b0d0-b0391bbf699e"
      },
      "execution_count": 25,
      "outputs": [
        {
          "output_type": "stream",
          "name": "stdout",
          "text": [
            "(array([ 4.5678 ,  5.13145,  5.6951 ,  6.25875,  6.8224 ,  7.38605,\n",
            "        7.9497 ,  8.51335,  9.077  ,  9.64065, 10.2043 , 10.76795,\n",
            "       11.3316 , 11.89525, 12.4589 , 13.02255, 13.5862 , 14.14985,\n",
            "       14.7135 , 15.27715, 15.8408 , 16.40445, 16.9681 , 17.53175,\n",
            "       18.0954 , 18.65905, 19.2227 , 19.78635, 20.35   , 20.91365,\n",
            "       21.4773 , 22.04095, 22.6046 , 23.16825, 23.7319 , 24.29555,\n",
            "       24.8592 , 25.42285, 25.9865 ]), 0.56365)\n"
          ]
        }
      ]
    },
    {
      "cell_type": "code",
      "source": [
        "print(\"vector of zeros \\n------------\")\n",
        "print(np.zeros([5]))"
      ],
      "metadata": {
        "colab": {
          "base_uri": "https://localhost:8080/"
        },
        "id": "s3l5tGZc8f9P",
        "outputId": "fd5da291-c39f-42fb-abea-6ab761f2d478"
      },
      "execution_count": 26,
      "outputs": [
        {
          "output_type": "stream",
          "name": "stdout",
          "text": [
            "vector of zeros \n",
            "------------\n",
            "[0. 0. 0. 0. 0.]\n"
          ]
        }
      ]
    },
    {
      "cell_type": "code",
      "source": [
        "print(\"vector of zeros \\n---------\")\n",
        "print(np.zeros([5,6]))"
      ],
      "metadata": {
        "colab": {
          "base_uri": "https://localhost:8080/"
        },
        "id": "D62DBTg58ioh",
        "outputId": "fb0ebdbf-68a2-4e95-fe82-98a42767a897"
      },
      "execution_count": 27,
      "outputs": [
        {
          "output_type": "stream",
          "name": "stdout",
          "text": [
            "vector of zeros \n",
            "---------\n",
            "[[0. 0. 0. 0. 0. 0.]\n",
            " [0. 0. 0. 0. 0. 0.]\n",
            " [0. 0. 0. 0. 0. 0.]\n",
            " [0. 0. 0. 0. 0. 0.]\n",
            " [0. 0. 0. 0. 0. 0.]]\n"
          ]
        }
      ]
    },
    {
      "cell_type": "code",
      "source": [
        "print(\"vector of ones \\n------------\")\n",
        "print(np.ones([5,6]))"
      ],
      "metadata": {
        "colab": {
          "base_uri": "https://localhost:8080/"
        },
        "id": "7ObWN12H8lOx",
        "outputId": "e598bb7e-8d5e-4a03-8b23-bd4d64d1cb1f"
      },
      "execution_count": 28,
      "outputs": [
        {
          "output_type": "stream",
          "name": "stdout",
          "text": [
            "vector of ones \n",
            "------------\n",
            "[[1. 1. 1. 1. 1. 1.]\n",
            " [1. 1. 1. 1. 1. 1.]\n",
            " [1. 1. 1. 1. 1. 1.]\n",
            " [1. 1. 1. 1. 1. 1.]\n",
            " [1. 1. 1. 1. 1. 1.]]\n"
          ]
        }
      ]
    },
    {
      "cell_type": "code",
      "source": [
        "print(\"matrix of 5 \\n--------\")\n",
        "print(5*np.ones([5,6]))"
      ],
      "metadata": {
        "colab": {
          "base_uri": "https://localhost:8080/"
        },
        "id": "pDnktJ7y8n2C",
        "outputId": "8b574df6-93d1-41b1-b9ba-1a0f6235ed36"
      },
      "execution_count": 29,
      "outputs": [
        {
          "output_type": "stream",
          "name": "stdout",
          "text": [
            "matrix of 5 \n",
            "--------\n",
            "[[5. 5. 5. 5. 5. 5.]\n",
            " [5. 5. 5. 5. 5. 5.]\n",
            " [5. 5. 5. 5. 5. 5.]\n",
            " [5. 5. 5. 5. 5. 5.]\n",
            " [5. 5. 5. 5. 5. 5.]]\n"
          ]
        }
      ]
    },
    {
      "cell_type": "code",
      "source": [
        "x=np.arange(30).reshape(5,6)\n",
        "print(x)"
      ],
      "metadata": {
        "colab": {
          "base_uri": "https://localhost:8080/"
        },
        "id": "0XBlldS08qHX",
        "outputId": "c4f30d6b-a099-4675-c16e-fbe0b9ce0090"
      },
      "execution_count": 30,
      "outputs": [
        {
          "output_type": "stream",
          "name": "stdout",
          "text": [
            "[[ 0  1  2  3  4  5]\n",
            " [ 6  7  8  9 10 11]\n",
            " [12 13 14 15 16 17]\n",
            " [18 19 20 21 22 23]\n",
            " [24 25 26 27 28 29]]\n"
          ]
        }
      ]
    },
    {
      "cell_type": "code",
      "source": [
        "np.random.seed(6) # Each seed number will generate similar data\n",
        "print(\"Random number genration (from uniform distribution)\")\n",
        "print(np.random.rand(10,6))"
      ],
      "metadata": {
        "colab": {
          "base_uri": "https://localhost:8080/"
        },
        "id": "jRdKeVZP8s6S",
        "outputId": "36704551-3415-40a2-af16-1bee75abef3b"
      },
      "execution_count": 31,
      "outputs": [
        {
          "output_type": "stream",
          "name": "stdout",
          "text": [
            "Random number genration (from uniform distribution)\n",
            "[[0.89286015 0.33197981 0.82122912 0.04169663 0.10765668 0.59505206]\n",
            " [0.52981736 0.41880743 0.33540785 0.62251943 0.43814143 0.73588211]\n",
            " [0.51803641 0.5788586  0.6453551  0.99022427 0.8198582  0.41320093]\n",
            " [0.87626766 0.82375943 0.05447451 0.71863724 0.80217056 0.73640664]\n",
            " [0.70913175 0.54093685 0.12482417 0.9576473  0.4032563  0.21695116]\n",
            " [0.71727585 0.99420744 0.25561406 0.67130943 0.59900591 0.71733215]\n",
            " [0.93734953 0.35180977 0.2536341  0.40247251 0.74651072 0.72407057]\n",
            " [0.4061078  0.98937985 0.45049928 0.37380843 0.70962861 0.08245855]\n",
            " [0.39837292 0.77088097 0.76475098 0.28385938 0.18954219 0.47125096]\n",
            " [0.33480604 0.73473504 0.18910712 0.33110407 0.84422842 0.61502403]]\n"
          ]
        }
      ]
    },
    {
      "cell_type": "code",
      "source": [
        "print(\"Number from normal distribution with zero mean and standard deviation 1 i.e standard noraml\")\n",
        "print(np.random.randn(10,6))"
      ],
      "metadata": {
        "colab": {
          "base_uri": "https://localhost:8080/"
        },
        "id": "49i5e7eH8v9i",
        "outputId": "8b262ac8-1e19-44ac-e212-941ce5b3ac0b"
      },
      "execution_count": 32,
      "outputs": [
        {
          "output_type": "stream",
          "name": "stdout",
          "text": [
            "Number from normal distribution with zero mean and standard deviation 1 i.e standard noraml\n",
            "[[-0.37550472  0.39636757 -0.47144628  2.33660781  1.50278553 -0.59545972]\n",
            " [ 0.52834106  0.9398248   0.42628539 -0.75815703 -0.16236698  0.72680996]\n",
            " [ 0.44408297 -0.85682264  0.44692842 -1.01464799 -2.1323234   0.17386307]\n",
            " [ 0.95120126  0.44189739  1.46901739  1.74951635  0.35353062 -0.64333729]\n",
            " [-0.04723705 -1.44903979 -0.03618977 -0.09084699  0.17629034  1.09462041]\n",
            " [-2.12647459  0.75144883 -0.54060704  0.79322236  0.17365335 -1.03543429]\n",
            " [ 0.87426839 -0.73957208  0.52294535 -0.59187648 -0.47748711  0.11252968]\n",
            " [ 1.90474232  0.69415315 -0.01958134  1.66284285  0.03060843 -0.29749921]\n",
            " [-0.96813764  0.16706673  0.11660197 -0.68225732 -1.91402115 -0.13990231]\n",
            " [ 0.11492459 -0.39500464 -0.95331626 -1.07282736 -0.48444561  1.36293786]]\n"
          ]
        }
      ]
    },
    {
      "cell_type": "code",
      "source": [
        "print(\"Random integer vector : \",np.random.randint(5,20,10))"
      ],
      "metadata": {
        "colab": {
          "base_uri": "https://localhost:8080/"
        },
        "id": "-zvc9vf98yjx",
        "outputId": "be73ebce-8e94-40b9-ffbb-e2335cb02a8e"
      },
      "execution_count": 33,
      "outputs": [
        {
          "output_type": "stream",
          "name": "stdout",
          "text": [
            "Random integer vector :  [ 7 17  6 19 17 19 15 14  7  5]\n"
          ]
        }
      ]
    },
    {
      "cell_type": "code",
      "source": [
        "print(\"\\n Random integer matrix\")\n",
        "print(np.random.randint(1,30000,(6,7)))"
      ],
      "metadata": {
        "colab": {
          "base_uri": "https://localhost:8080/"
        },
        "id": "XDYvPwIr81UY",
        "outputId": "ce9a93ac-0cde-4117-91ee-c9368418f73f"
      },
      "execution_count": 34,
      "outputs": [
        {
          "output_type": "stream",
          "name": "stdout",
          "text": [
            "\n",
            " Random integer matrix\n",
            "[[18780 18307 15355 11222 24641 15656  8972]\n",
            " [  599  3367 25489    10 16534 12574 19711]\n",
            " [ 7360 29664  7867  7193 14019 13020 13077]\n",
            " [18979   100 21484 21802  8255 12325  7663]\n",
            " [20160 19121 25216 16774  3611 16808  5847]\n",
            " [ 3810  3576 24615  1083 17826 26054  8618]]\n"
          ]
        }
      ]
    },
    {
      "cell_type": "code",
      "source": [
        "def generate_otp():\n",
        "    otp=np.random.randint(1000,10000,1)\n",
        "    print(\"Your Otp is \",otp)\n",
        "    user_otp=int(input(\"Enter Your OTP Here\"))\n",
        "    if otp==user_otp:\n",
        "        print(\"Log in Sucessfully\")\n",
        "    else:\n",
        "        print(\"Your OTP is invalid\")"
      ],
      "metadata": {
        "id": "MJ23jrLd83fW"
      },
      "execution_count": 35,
      "outputs": []
    },
    {
      "cell_type": "code",
      "source": [
        "generate_otp()"
      ],
      "metadata": {
        "colab": {
          "base_uri": "https://localhost:8080/"
        },
        "id": "NrROXadD86Bh",
        "outputId": "afd0b3e7-3492-4b08-c2e1-23e84b66c2f2"
      },
      "execution_count": 36,
      "outputs": [
        {
          "output_type": "stream",
          "name": "stdout",
          "text": [
            "Your Otp is  [4292]\n",
            "Enter Your OTP Here4292\n",
            "Log in Sucessfully\n"
          ]
        }
      ]
    },
    {
      "cell_type": "code",
      "source": [],
      "metadata": {
        "id": "9xGfQc-W88Ia"
      },
      "execution_count": null,
      "outputs": []
    }
  ]
}